{
 "cells": [
  {
   "cell_type": "code",
   "execution_count": 1,
   "id": "db4fc88b",
   "metadata": {},
   "outputs": [],
   "source": [
    "import numpy as np"
   ]
  },
  {
   "cell_type": "code",
   "execution_count": 2,
   "id": "b512ba06",
   "metadata": {},
   "outputs": [],
   "source": [
    "user_pref = np.array([5, 1, 3])"
   ]
  },
  {
   "cell_type": "code",
   "execution_count": 3,
   "id": "0ddd26ec",
   "metadata": {},
   "outputs": [],
   "source": [
    "movies = np.random.randint(5,size=(3,1000))+1"
   ]
  },
  {
   "cell_type": "code",
   "execution_count": 4,
   "id": "b569c7e1",
   "metadata": {},
   "outputs": [
    {
     "name": "stdout",
     "output_type": "stream",
     "text": [
      "(3,)\n"
     ]
    }
   ],
   "source": [
    "print(user_pref.shape) # (1, 3)"
   ]
  },
  {
   "cell_type": "code",
   "execution_count": 5,
   "id": "104e98de",
   "metadata": {},
   "outputs": [
    {
     "name": "stdout",
     "output_type": "stream",
     "text": [
      "(3, 1000)\n"
     ]
    }
   ],
   "source": [
    "print(movies.shape)"
   ]
  },
  {
   "cell_type": "code",
   "execution_count": 8,
   "id": "71c65848",
   "metadata": {},
   "outputs": [
    {
     "data": {
      "text/plain": [
       "array([39, 18, 17, ..., 19, 32, 25])"
      ]
     },
     "execution_count": 8,
     "metadata": {},
     "output_type": "execute_result"
    }
   ],
   "source": [
    "np.dot(user_pref, movies)"
   ]
  },
  {
   "cell_type": "code",
   "execution_count": 6,
   "id": "1be25f56",
   "metadata": {},
   "outputs": [
    {
     "name": "stdout",
     "output_type": "stream",
     "text": [
      "0.00046825408935546875 seconds to run 10000 movies\n",
      "0.0023949146270751953 seconds to run 100000 movies\n",
      "0.030570507049560547 seconds to run 1000000 movies\n",
      "0.10563039779663086 seconds to run 10000000 movies\n",
      "1.0577452182769775 seconds to run 100000000 movies\n"
     ]
    }
   ],
   "source": [
    "import time\n",
    "for num_movies in (10000, 100000, 1000000, 10000000, 100000000):\n",
    "    movies = np.random.randint(5,size=(3, num_movies))+1\n",
    "    now = time.time()\n",
    "    np.dot(user_pref, movies)\n",
    "    print((time.time() - now), \"seconds to run\", num_movies, \"movies\")"
   ]
  }
 ],
 "metadata": {
  "kernelspec": {
   "display_name": "Python 3 (ipykernel)",
   "language": "python",
   "name": "python3"
  },
  "language_info": {
   "codemirror_mode": {
    "name": "ipython",
    "version": 3
   },
   "file_extension": ".py",
   "mimetype": "text/x-python",
   "name": "python",
   "nbconvert_exporter": "python",
   "pygments_lexer": "ipython3",
   "version": "3.9.7"
  }
 },
 "nbformat": 4,
 "nbformat_minor": 5
}
