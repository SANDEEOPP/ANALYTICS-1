{
 "cells": [
  {
   "cell_type": "code",
   "execution_count": 1,
   "id": "5551206c",
   "metadata": {},
   "outputs": [],
   "source": [
    "import numpy as np#importing numpy\n",
    "import statistics as stat"
   ]
  },
  {
   "cell_type": "code",
   "execution_count": 2,
   "id": "2a01b53a",
   "metadata": {},
   "outputs": [],
   "source": [
    "S1 = 20, 12, 8, 10, 3, 15, 7, 35, 7, 33, 5, 17, 9, 18, 4\n",
    "\n",
    "S2 = 23, 19, 42, 28, 37, 2, 21, 39, 5, 14, 1, 18, 12, 11, 8\n",
    "\n",
    "S3 = 9, 21, 2, 52, 45, 32, 40, 7, 9, 7, 31, 19, 3, 11, 10\n",
    "\n",
    "S4 = 41, 18, 14, 3, 50, 25, 46, 33, 12, 2, 5, 23, 29, 33, 17"
   ]
  },
  {
   "cell_type": "code",
   "execution_count": null,
   "id": "dfa82697",
   "metadata": {},
   "outputs": [],
   "source": [
    "#1 Mean (X-Bar) of the collective Means of the Samples"
   ]
  },
  {
   "cell_type": "code",
   "execution_count": 3,
   "id": "b4fb3455",
   "metadata": {},
   "outputs": [
    {
     "data": {
      "text/plain": [
       "13.533333333333333"
      ]
     },
     "execution_count": 3,
     "metadata": {},
     "output_type": "execute_result"
    }
   ],
   "source": [
    "np.mean(S1)"
   ]
  },
  {
   "cell_type": "code",
   "execution_count": 4,
   "id": "c3b5325f",
   "metadata": {},
   "outputs": [
    {
     "data": {
      "text/plain": [
       "19.866666666666667"
      ]
     },
     "execution_count": 4,
     "metadata": {},
     "output_type": "execute_result"
    }
   ],
   "source": [
    "np.mean(S3)"
   ]
  },
  {
   "cell_type": "code",
   "execution_count": 5,
   "id": "ce6714d4",
   "metadata": {},
   "outputs": [
    {
     "data": {
      "text/plain": [
       "23.4"
      ]
     },
     "execution_count": 5,
     "metadata": {},
     "output_type": "execute_result"
    }
   ],
   "source": [
    "np.mean(S4)"
   ]
  },
  {
   "cell_type": "code",
   "execution_count": 6,
   "id": "2e9a45b3",
   "metadata": {},
   "outputs": [
    {
     "data": {
      "text/plain": [
       "18.866666666666667"
      ]
     },
     "execution_count": 6,
     "metadata": {},
     "output_type": "execute_result"
    }
   ],
   "source": [
    "np.mean(S1+S2+S3+S4)"
   ]
  },
  {
   "cell_type": "code",
   "execution_count": 7,
   "id": "f31b7f45",
   "metadata": {},
   "outputs": [
    {
     "data": {
      "text/plain": [
       "18.866666666666667"
      ]
     },
     "execution_count": 7,
     "metadata": {},
     "output_type": "execute_result"
    }
   ],
   "source": [
    "stat.mean(S1+S2+S3+S4)"
   ]
  },
  {
   "cell_type": "code",
   "execution_count": null,
   "id": "73d80c41",
   "metadata": {},
   "outputs": [],
   "source": [
    "#2 Median of the Samples collectively"
   ]
  },
  {
   "cell_type": "code",
   "execution_count": 8,
   "id": "0fd4c62b",
   "metadata": {},
   "outputs": [
    {
     "data": {
      "text/plain": [
       "10.0"
      ]
     },
     "execution_count": 8,
     "metadata": {},
     "output_type": "execute_result"
    }
   ],
   "source": [
    "np.median(S1)"
   ]
  },
  {
   "cell_type": "code",
   "execution_count": 9,
   "id": "6b7afa17",
   "metadata": {},
   "outputs": [
    {
     "data": {
      "text/plain": [
       "18.0"
      ]
     },
     "execution_count": 9,
     "metadata": {},
     "output_type": "execute_result"
    }
   ],
   "source": [
    "np.median(S2)"
   ]
  },
  {
   "cell_type": "code",
   "execution_count": 10,
   "id": "f23f401b",
   "metadata": {},
   "outputs": [
    {
     "data": {
      "text/plain": [
       "11.0"
      ]
     },
     "execution_count": 10,
     "metadata": {},
     "output_type": "execute_result"
    }
   ],
   "source": [
    "np.median(S3)"
   ]
  },
  {
   "cell_type": "code",
   "execution_count": 11,
   "id": "d44c58c7",
   "metadata": {},
   "outputs": [
    {
     "data": {
      "text/plain": [
       "23.0"
      ]
     },
     "execution_count": 11,
     "metadata": {},
     "output_type": "execute_result"
    }
   ],
   "source": [
    "np.median(S4)"
   ]
  },
  {
   "cell_type": "code",
   "execution_count": 12,
   "id": "8efe9514",
   "metadata": {},
   "outputs": [
    {
     "data": {
      "text/plain": [
       "16.0"
      ]
     },
     "execution_count": 12,
     "metadata": {},
     "output_type": "execute_result"
    }
   ],
   "source": [
    "np.median(S1+S2+S3+S4)"
   ]
  },
  {
   "cell_type": "code",
   "execution_count": null,
   "id": "707de77a",
   "metadata": {},
   "outputs": [],
   "source": [
    "#3 Mode of the Samples"
   ]
  },
  {
   "cell_type": "code",
   "execution_count": 13,
   "id": "9ef7b35c",
   "metadata": {},
   "outputs": [
    {
     "data": {
      "text/plain": [
       "7"
      ]
     },
     "execution_count": 13,
     "metadata": {},
     "output_type": "execute_result"
    }
   ],
   "source": [
    "stat.mode(S1)"
   ]
  },
  {
   "cell_type": "code",
   "execution_count": 14,
   "id": "f7d8814c",
   "metadata": {},
   "outputs": [
    {
     "data": {
      "text/plain": [
       "23"
      ]
     },
     "execution_count": 14,
     "metadata": {},
     "output_type": "execute_result"
    }
   ],
   "source": [
    "stat.mode(S2)"
   ]
  },
  {
   "cell_type": "code",
   "execution_count": 15,
   "id": "ce4e4886",
   "metadata": {},
   "outputs": [
    {
     "data": {
      "text/plain": [
       "9"
      ]
     },
     "execution_count": 15,
     "metadata": {},
     "output_type": "execute_result"
    }
   ],
   "source": [
    "stat.mode(S3)"
   ]
  },
  {
   "cell_type": "code",
   "execution_count": 16,
   "id": "074ebbbf",
   "metadata": {},
   "outputs": [
    {
     "data": {
      "text/plain": [
       "33"
      ]
     },
     "execution_count": 16,
     "metadata": {},
     "output_type": "execute_result"
    }
   ],
   "source": [
    "stat.mode(S4)"
   ]
  },
  {
   "cell_type": "code",
   "execution_count": 17,
   "id": "0cda0780",
   "metadata": {},
   "outputs": [
    {
     "data": {
      "text/plain": [
       "7"
      ]
     },
     "execution_count": 17,
     "metadata": {},
     "output_type": "execute_result"
    }
   ],
   "source": [
    "stat.mode(S1+S2+S3+S4)"
   ]
  },
  {
   "cell_type": "code",
   "execution_count": null,
   "id": "15b359d9",
   "metadata": {},
   "outputs": [],
   "source": [
    "#4 Variance of the Samples collectively"
   ]
  },
  {
   "cell_type": "code",
   "execution_count": 18,
   "id": "0749ebaa",
   "metadata": {},
   "outputs": [
    {
     "data": {
      "text/plain": [
       "95.83809523809525"
      ]
     },
     "execution_count": 18,
     "metadata": {},
     "output_type": "execute_result"
    }
   ],
   "source": [
    "stat.variance(S1)"
   ]
  },
  {
   "cell_type": "code",
   "execution_count": 19,
   "id": "f8145461",
   "metadata": {},
   "outputs": [
    {
     "data": {
      "text/plain": [
       "172.95238095238096"
      ]
     },
     "execution_count": 19,
     "metadata": {},
     "output_type": "execute_result"
    }
   ],
   "source": [
    "stat.variance(S2)"
   ]
  },
  {
   "cell_type": "code",
   "execution_count": 20,
   "id": "b4ebaaec",
   "metadata": {},
   "outputs": [
    {
     "data": {
      "text/plain": [
       "263.552380952381"
      ]
     },
     "execution_count": 20,
     "metadata": {},
     "output_type": "execute_result"
    }
   ],
   "source": [
    "stat.variance(S3)"
   ]
  },
  {
   "cell_type": "code",
   "execution_count": 21,
   "id": "6877467e",
   "metadata": {},
   "outputs": [
    {
     "data": {
      "text/plain": [
       "231.97142857142856"
      ]
     },
     "execution_count": 21,
     "metadata": {},
     "output_type": "execute_result"
    }
   ],
   "source": [
    "stat.variance(S4)"
   ]
  },
  {
   "cell_type": "code",
   "execution_count": 22,
   "id": "12af4aa3",
   "metadata": {},
   "outputs": [
    {
     "data": {
      "text/plain": [
       "194.08361581920903"
      ]
     },
     "execution_count": 22,
     "metadata": {},
     "output_type": "execute_result"
    }
   ],
   "source": [
    "stat.variance(S1+S2+S3+S4)"
   ]
  },
  {
   "cell_type": "code",
   "execution_count": 23,
   "id": "d9835567",
   "metadata": {},
   "outputs": [
    {
     "data": {
      "text/plain": [
       "190.8488888888889"
      ]
     },
     "execution_count": 23,
     "metadata": {},
     "output_type": "execute_result"
    }
   ],
   "source": [
    "np.var(S1+S2+S3+S4)"
   ]
  },
  {
   "cell_type": "code",
   "execution_count": null,
   "id": "7bbf4dd2",
   "metadata": {},
   "outputs": [],
   "source": [
    "#5 Standard Deviation of the Samples collectively"
   ]
  },
  {
   "cell_type": "code",
   "execution_count": 24,
   "id": "ea75a4d2",
   "metadata": {},
   "outputs": [
    {
     "data": {
      "text/plain": [
       "9.789693316856011"
      ]
     },
     "execution_count": 24,
     "metadata": {},
     "output_type": "execute_result"
    }
   ],
   "source": [
    "stat.stdev(S1)"
   ]
  },
  {
   "cell_type": "code",
   "execution_count": 25,
   "id": "97adfe37",
   "metadata": {},
   "outputs": [
    {
     "data": {
      "text/plain": [
       "13.151136108807519"
      ]
     },
     "execution_count": 25,
     "metadata": {},
     "output_type": "execute_result"
    }
   ],
   "source": [
    "stat.stdev(S2)"
   ]
  },
  {
   "cell_type": "code",
   "execution_count": 26,
   "id": "e600a743",
   "metadata": {},
   "outputs": [
    {
     "data": {
      "text/plain": [
       "16.234296441557944"
      ]
     },
     "execution_count": 26,
     "metadata": {},
     "output_type": "execute_result"
    }
   ],
   "source": [
    "stat.stdev(S3)"
   ]
  },
  {
   "cell_type": "code",
   "execution_count": 27,
   "id": "75d72074",
   "metadata": {},
   "outputs": [
    {
     "data": {
      "text/plain": [
       "15.230608279757856"
      ]
     },
     "execution_count": 27,
     "metadata": {},
     "output_type": "execute_result"
    }
   ],
   "source": [
    "stat.stdev(S4)"
   ]
  },
  {
   "cell_type": "code",
   "execution_count": 28,
   "id": "44760fd3",
   "metadata": {},
   "outputs": [
    {
     "data": {
      "text/plain": [
       "13.931389586800343"
      ]
     },
     "execution_count": 28,
     "metadata": {},
     "output_type": "execute_result"
    }
   ],
   "source": [
    "stat.stdev(S1+S2+S3+S4)"
   ]
  },
  {
   "cell_type": "code",
   "execution_count": 29,
   "id": "0325299a",
   "metadata": {},
   "outputs": [
    {
     "data": {
      "text/plain": [
       "13.814806871212093"
      ]
     },
     "execution_count": 29,
     "metadata": {},
     "output_type": "execute_result"
    }
   ],
   "source": [
    "np.std(S1+S2+S3+S4)"
   ]
  },
  {
   "cell_type": "code",
   "execution_count": null,
   "id": "4fc60799",
   "metadata": {},
   "outputs": [],
   "source": []
  }
 ],
 "metadata": {
  "kernelspec": {
   "display_name": "Python 3 (ipykernel)",
   "language": "python",
   "name": "python3"
  },
  "language_info": {
   "codemirror_mode": {
    "name": "ipython",
    "version": 3
   },
   "file_extension": ".py",
   "mimetype": "text/x-python",
   "name": "python",
   "nbconvert_exporter": "python",
   "pygments_lexer": "ipython3",
   "version": "3.9.7"
  }
 },
 "nbformat": 4,
 "nbformat_minor": 5
}
